{
 "cells": [
  {
   "cell_type": "code",
   "id": "initial_id",
   "metadata": {
    "collapsed": true,
    "ExecuteTime": {
     "end_time": "2025-06-14T02:23:34.909375Z",
     "start_time": "2025-06-14T02:23:33.145181Z"
    }
   },
   "source": [
    "import html\n",
    "from bs4 import BeautifulSoup\n",
    "import pandas as pd\n",
    "import numpy as np\n",
    "import re\n",
    "import json\n",
    "from tqdm import tqdm\n",
    "import nltk \n",
    "from nltk.tokenize import sent_tokenize\n",
    "nltk.download('punkt_tab')\n",
    "\n",
    "import os\n",
    "from dotenv import load_dotenv\n",
    "\n",
    "load_dotenv()  \n",
    "openai_api_key = os.getenv(\"OPENAI_API_KEY\")\n",
    "print(\"✅ Key loaded:\", openai_api_key[:5] + \"...\" if openai_api_key else \"❌ NOT FOUND\")\n",
    "\n"
   ],
   "outputs": [
    {
     "name": "stdout",
     "output_type": "stream",
     "text": [
      "✅ Key loaded: sk-pr...\n"
     ]
    },
    {
     "name": "stderr",
     "output_type": "stream",
     "text": [
      "[nltk_data] Downloading package punkt_tab to /home/ken/nltk_data...\n",
      "[nltk_data]   Package punkt_tab is already up-to-date!\n"
     ]
    }
   ],
   "execution_count": 1
  },
  {
   "metadata": {
    "ExecuteTime": {
     "end_time": "2025-06-14T02:23:34.961319Z",
     "start_time": "2025-06-14T02:23:34.910603Z"
    }
   },
   "cell_type": "code",
   "source": [
    "df = pd.read_csv('data/leafly_strain_data_project.csv')\n",
    "df.shape,df.columns[:6] \n",
    "### The first 6 columns are as  below, but the rest are reported affects."
   ],
   "id": "837dda86eca46915",
   "outputs": [
    {
     "data": {
      "text/plain": [
       "((4762, 64),\n",
       " Index(['name', 'img_url', 'type', 'thc_level', 'most_common_terpene',\n",
       "        'description'],\n",
       "       dtype='object'))"
      ]
     },
     "execution_count": 2,
     "metadata": {},
     "output_type": "execute_result"
    }
   ],
   "execution_count": 2
  },
  {
   "metadata": {
    "ExecuteTime": {
     "end_time": "2025-06-14T02:23:35.008171Z",
     "start_time": "2025-06-14T02:23:34.962252Z"
    }
   },
   "cell_type": "code",
   "source": "df.describe()",
   "id": "5bb2bc5e7c0e61d",
   "outputs": [
    {
     "data": {
      "text/plain": [
       "                   name                                           img_url  \\\n",
       "count              4762                                                98   \n",
       "unique             4762                                                98   \n",
       "top     Blueberry Waltz  https://images.leafly.com/flower-images/gg-4.jpg   \n",
       "freq                  1                                                 1   \n",
       "\n",
       "          type thc_level most_common_terpene  \\\n",
       "count     4107      2735                2447   \n",
       "unique       3        29                   8   \n",
       "top     Hybrid       18%             Myrcene   \n",
       "freq      2772       366                1195   \n",
       "\n",
       "                                              description relaxed happy  \\\n",
       "count                                                4727    4762  4762   \n",
       "unique                                               4727      81    79   \n",
       "top     Blueberry Waltz is an indica-dominant strain t...      0%    0%   \n",
       "freq                                                    1    2158  1991   \n",
       "\n",
       "       euphoric uplifted  ... fibromyalgia crohn's_disease phantom_limb_pain  \\\n",
       "count      4762     4762  ...         4762            4762              4762   \n",
       "unique       76       79  ...           13               6                 3   \n",
       "top          0%       0%  ...           0%              0%                0%   \n",
       "freq       2446     2306  ...         4748            4755              4759   \n",
       "\n",
       "       epilepsy multiple_sclerosis parkinson's tourette's_syndrome  \\\n",
       "count      4762               4762        4762                4762   \n",
       "unique        7                  6           2                   3   \n",
       "top          0%                 0%          0%                  0%   \n",
       "freq       4753               4755        4760                4760   \n",
       "\n",
       "       alzheimer's hiv/aids tinnitus  \n",
       "count         4762     4762     4762  \n",
       "unique           4        3        2  \n",
       "top             0%       0%       0%  \n",
       "freq          4758     4760     4760  \n",
       "\n",
       "[4 rows x 64 columns]"
      ],
      "text/html": [
       "<div>\n",
       "<style scoped>\n",
       "    .dataframe tbody tr th:only-of-type {\n",
       "        vertical-align: middle;\n",
       "    }\n",
       "\n",
       "    .dataframe tbody tr th {\n",
       "        vertical-align: top;\n",
       "    }\n",
       "\n",
       "    .dataframe thead th {\n",
       "        text-align: right;\n",
       "    }\n",
       "</style>\n",
       "<table border=\"1\" class=\"dataframe\">\n",
       "  <thead>\n",
       "    <tr style=\"text-align: right;\">\n",
       "      <th></th>\n",
       "      <th>name</th>\n",
       "      <th>img_url</th>\n",
       "      <th>type</th>\n",
       "      <th>thc_level</th>\n",
       "      <th>most_common_terpene</th>\n",
       "      <th>description</th>\n",
       "      <th>relaxed</th>\n",
       "      <th>happy</th>\n",
       "      <th>euphoric</th>\n",
       "      <th>uplifted</th>\n",
       "      <th>...</th>\n",
       "      <th>fibromyalgia</th>\n",
       "      <th>crohn's_disease</th>\n",
       "      <th>phantom_limb_pain</th>\n",
       "      <th>epilepsy</th>\n",
       "      <th>multiple_sclerosis</th>\n",
       "      <th>parkinson's</th>\n",
       "      <th>tourette's_syndrome</th>\n",
       "      <th>alzheimer's</th>\n",
       "      <th>hiv/aids</th>\n",
       "      <th>tinnitus</th>\n",
       "    </tr>\n",
       "  </thead>\n",
       "  <tbody>\n",
       "    <tr>\n",
       "      <th>count</th>\n",
       "      <td>4762</td>\n",
       "      <td>98</td>\n",
       "      <td>4107</td>\n",
       "      <td>2735</td>\n",
       "      <td>2447</td>\n",
       "      <td>4727</td>\n",
       "      <td>4762</td>\n",
       "      <td>4762</td>\n",
       "      <td>4762</td>\n",
       "      <td>4762</td>\n",
       "      <td>...</td>\n",
       "      <td>4762</td>\n",
       "      <td>4762</td>\n",
       "      <td>4762</td>\n",
       "      <td>4762</td>\n",
       "      <td>4762</td>\n",
       "      <td>4762</td>\n",
       "      <td>4762</td>\n",
       "      <td>4762</td>\n",
       "      <td>4762</td>\n",
       "      <td>4762</td>\n",
       "    </tr>\n",
       "    <tr>\n",
       "      <th>unique</th>\n",
       "      <td>4762</td>\n",
       "      <td>98</td>\n",
       "      <td>3</td>\n",
       "      <td>29</td>\n",
       "      <td>8</td>\n",
       "      <td>4727</td>\n",
       "      <td>81</td>\n",
       "      <td>79</td>\n",
       "      <td>76</td>\n",
       "      <td>79</td>\n",
       "      <td>...</td>\n",
       "      <td>13</td>\n",
       "      <td>6</td>\n",
       "      <td>3</td>\n",
       "      <td>7</td>\n",
       "      <td>6</td>\n",
       "      <td>2</td>\n",
       "      <td>3</td>\n",
       "      <td>4</td>\n",
       "      <td>3</td>\n",
       "      <td>2</td>\n",
       "    </tr>\n",
       "    <tr>\n",
       "      <th>top</th>\n",
       "      <td>Blueberry Waltz</td>\n",
       "      <td>https://images.leafly.com/flower-images/gg-4.jpg</td>\n",
       "      <td>Hybrid</td>\n",
       "      <td>18%</td>\n",
       "      <td>Myrcene</td>\n",
       "      <td>Blueberry Waltz is an indica-dominant strain t...</td>\n",
       "      <td>0%</td>\n",
       "      <td>0%</td>\n",
       "      <td>0%</td>\n",
       "      <td>0%</td>\n",
       "      <td>...</td>\n",
       "      <td>0%</td>\n",
       "      <td>0%</td>\n",
       "      <td>0%</td>\n",
       "      <td>0%</td>\n",
       "      <td>0%</td>\n",
       "      <td>0%</td>\n",
       "      <td>0%</td>\n",
       "      <td>0%</td>\n",
       "      <td>0%</td>\n",
       "      <td>0%</td>\n",
       "    </tr>\n",
       "    <tr>\n",
       "      <th>freq</th>\n",
       "      <td>1</td>\n",
       "      <td>1</td>\n",
       "      <td>2772</td>\n",
       "      <td>366</td>\n",
       "      <td>1195</td>\n",
       "      <td>1</td>\n",
       "      <td>2158</td>\n",
       "      <td>1991</td>\n",
       "      <td>2446</td>\n",
       "      <td>2306</td>\n",
       "      <td>...</td>\n",
       "      <td>4748</td>\n",
       "      <td>4755</td>\n",
       "      <td>4759</td>\n",
       "      <td>4753</td>\n",
       "      <td>4755</td>\n",
       "      <td>4760</td>\n",
       "      <td>4760</td>\n",
       "      <td>4758</td>\n",
       "      <td>4760</td>\n",
       "      <td>4760</td>\n",
       "    </tr>\n",
       "  </tbody>\n",
       "</table>\n",
       "<p>4 rows × 64 columns</p>\n",
       "</div>"
      ]
     },
     "execution_count": 3,
     "metadata": {},
     "output_type": "execute_result"
    }
   ],
   "execution_count": 3
  },
  {
   "metadata": {
    "ExecuteTime": {
     "end_time": "2025-06-14T02:23:35.159862Z",
     "start_time": "2025-06-14T02:23:35.009531Z"
    }
   },
   "cell_type": "code",
   "source": [
    "def aggressive_clean_description(text):\n",
    "    if pd.isna(text):\n",
    "        return \"\"\n",
    "\n",
    "    # Handle raw Unicode and Windows CP-1252 artifacts\n",
    "    try:\n",
    "        text = text.encode(\"raw_unicode_escape\").decode(\"utf-8\", errors=\"ignore\")\n",
    "    except Exception:\n",
    "        pass\n",
    "\n",
    "    # Decode CP1252 if any remnants exist\n",
    "    try:\n",
    "        text = text.encode(\"cp1252\", errors=\"ignore\").decode(\"utf-8\", errors=\"ignore\")\n",
    "    except Exception:\n",
    "        pass\n",
    "\n",
    "    # Remove control characters\n",
    "    text = re.sub(r\"[\\x00-\\x1F\\x7F-\\x9F]\", \"\", text)\n",
    "\n",
    "    # Clean HTML tags and entities\n",
    "    text = html.unescape(text)\n",
    "    text = BeautifulSoup(text, \"html.parser\").get_text()\n",
    "\n",
    "    # Normalize smart quotes, hyphens, dashes\n",
    "    replacements = {\n",
    "        \"“\": \"\\\"\", \"”\": \"\\\"\", \"‘\": \"'\", \"’\": \"'\",\n",
    "        \"–\": \"-\", \"—\": \"-\", \"…\": \"...\",\n",
    "    }\n",
    "    for bad, good in replacements.items():\n",
    "        text = text.replace(bad, good)\n",
    "\n",
    "    # Remove residual unicode escapes and non-ASCII\n",
    "    text = re.sub(r\"\\\\u[0-9a-fA-F]{4}\", \"\", text)  # escaped unicode\n",
    "    text = re.sub(r\"[^\\x00-\\x7F]+\", \" \", text)      # non-ASCII chars\n",
    "\n",
    "    # Remove excess whitespace\n",
    "    text = re.sub(r\"\\s+\", \" \", text).strip()\n",
    "\n",
    "    return text.lower()\n",
    "\n",
    "\n",
    "# Applying function to column \n",
    "df[\"aggressive_cleaned_description\"] = df[\"description\"].apply(aggressive_clean_description)\n",
    "\n",
    "# Show comparison on original example\n",
    "df.loc[5, [\"description\", \"aggressive_cleaned_description\"]]\n"
   ],
   "id": "a1659848037f1c61",
   "outputs": [
    {
     "data": {
      "text/plain": [
       "description                       Purple Punch is the sweet and sedating union o...\n",
       "aggressive_cleaned_description    purple punch is the sweet and sedating union o...\n",
       "Name: 5, dtype: object"
      ]
     },
     "execution_count": 4,
     "metadata": {},
     "output_type": "execute_result"
    }
   ],
   "execution_count": 4
  },
  {
   "metadata": {
    "ExecuteTime": {
     "end_time": "2025-06-14T02:23:35.294970Z",
     "start_time": "2025-06-14T02:23:35.160936Z"
    }
   },
   "cell_type": "code",
   "source": [
    "def chunk_sentences(text, chunk_size=2):\n",
    "    \"\"\"Split text into groups of `chunk_size` sentences.\"\"\"\n",
    "    sentences = sent_tokenize(text)\n",
    "    return [\n",
    "        \" \".join(sentences[i:i+chunk_size])\n",
    "        for i in range(0, len(sentences), chunk_size)\n",
    "    ]\n",
    "\n",
    "\n",
    "tqdm.pandas()\n",
    "df[\"chunks\"] = df[\"aggressive_cleaned_description\"].progress_apply(chunk_sentences)\n"
   ],
   "id": "259cb293ee1e87ff",
   "outputs": [
    {
     "name": "stderr",
     "output_type": "stream",
     "text": [
      "100%|██████████| 4762/4762 [00:00<00:00, 36954.70it/s]\n"
     ]
    }
   ],
   "execution_count": 5
  },
  {
   "metadata": {
    "ExecuteTime": {
     "end_time": "2025-06-14T02:23:35.348269Z",
     "start_time": "2025-06-14T02:23:35.295895Z"
    }
   },
   "cell_type": "code",
   "source": [
    "## In order to use OpenAI embeddings maximally, chunk the texts\n",
    "\n",
    "docs = []\n",
    "for strain_id, (name,chunks) in enumerate(zip(df['name'],df['chunks'])):\n",
    "    for chunk_index, chunk in enumerate(chunks):\n",
    "        docs.append({\n",
    "            \"strain_id\":strain_id,\n",
    "            \"strain_name\":name,\n",
    "            \"chunk_index\": chunk_index,\n",
    "            \"chunk\":chunk\n",
    "        })\n",
    "\n",
    "docs_df = pd.DataFrame(docs)"
   ],
   "id": "a19f7bd4d5be9342",
   "outputs": [],
   "execution_count": 6
  },
  {
   "metadata": {
    "ExecuteTime": {
     "end_time": "2025-06-14T02:23:36.143684Z",
     "start_time": "2025-06-14T02:23:35.349423Z"
    }
   },
   "cell_type": "code",
   "source": [
    "from openai import OpenAI\n",
    "client = OpenAI(api_key=openai_api_key)\n",
    "\n",
    "def get_embedding(text, model=\"text-embedding-3-small\"):\n",
    "    try:\n",
    "        response = client.embeddings.create(\n",
    "            input=[text],\n",
    "            model=model\n",
    "        )\n",
    "        return response.data[0].embedding\n",
    "    except Exception as e:\n",
    "        print(f\"Embedding error: {e}\")\n",
    "        return None\n"
   ],
   "id": "e6e8a580ddff7cda",
   "outputs": [],
   "execution_count": 7
  },
  {
   "metadata": {
    "ExecuteTime": {
     "end_time": "2025-06-14T02:23:36.704073Z",
     "start_time": "2025-06-14T02:23:36.144564Z"
    }
   },
   "cell_type": "code",
   "source": [
    "response = client.embeddings.create(\n",
    "    input=[\"what helps with anxiety and sleep?\"],\n",
    "    model=\"text-embedding-3-small\"\n",
    ")\n",
    "embedding = response.data[0].embedding\n",
    "print(f\"✅ Got embedding with {len(embedding)} dimensions\")\n"
   ],
   "id": "357699fe7323f51b",
   "outputs": [
    {
     "name": "stdout",
     "output_type": "stream",
     "text": [
      "✅ Got embedding with 1536 dimensions\n"
     ]
    }
   ],
   "execution_count": 8
  },
  {
   "metadata": {
    "ExecuteTime": {
     "end_time": "2025-06-14T02:56:57.886977Z",
     "start_time": "2025-06-14T02:23:36.705284Z"
    }
   },
   "cell_type": "code",
   "source": [
    "tqdm.pandas()\n",
    "docs_df[\"embedding\"] = docs_df[\"chunk\"].progress_apply(get_embedding)\n"
   ],
   "id": "1181acd5436be461",
   "outputs": [
    {
     "name": "stderr",
     "output_type": "stream",
     "text": [
      "100%|██████████| 9361/9361 [33:21<00:00,  4.68it/s]   \n"
     ]
    }
   ],
   "execution_count": 9
  },
  {
   "metadata": {
    "ExecuteTime": {
     "end_time": "2025-06-14T02:56:59.907329Z",
     "start_time": "2025-06-14T02:56:57.889651Z"
    }
   },
   "cell_type": "code",
   "source": [
    "docs_df.to_parquet(\"data/docs_df_with_embeddings.parquet\", index=False)\n",
    "# Load if needed:\n",
    "docs_df = pd.read_parquet(\"data/docs_df_with_embeddings.parquet\")\n",
    "\n",
    "# Compute mean vector per strain\n",
    "strain_embeddings = (\n",
    "    docs_df.groupby(\"strain_name\")[\"embedding\"]\n",
    "    .apply(lambda vectors: np.mean(vectors.tolist(), axis=0))\n",
    "    .reset_index()\n",
    ")\n",
    "\n",
    "# Convert into a dict for quick lookup\n",
    "strain_embedding_dict = {\n",
    "    row[\"strain_name\"]: row[\"embedding\"]\n",
    "    for _, row in strain_embeddings.iterrows()\n",
    "}\n"
   ],
   "id": "b96e350e51ce914b",
   "outputs": [],
   "execution_count": 10
  },
  {
   "metadata": {
    "ExecuteTime": {
     "end_time": "2025-06-14T02:56:59.911553Z",
     "start_time": "2025-06-14T02:56:59.908225Z"
    }
   },
   "cell_type": "code",
   "source": [
    "from sklearn.metrics.pairwise import cosine_similarity\n",
    "\n",
    "def recommend_similar_strains(strain_name, top_n=3):\n",
    "    if strain_name not in strain_embedding_dict:\n",
    "        print(f\"❌ '{strain_name}' not found.\")\n",
    "        return []\n",
    "\n",
    "    query_vector = np.array(strain_embedding_dict[strain_name]).reshape(1, -1)\n",
    "\n",
    "    results = []\n",
    "    for name, emb in strain_embedding_dict.items():\n",
    "        if name == strain_name:\n",
    "            continue\n",
    "        sim = cosine_similarity(query_vector, np.array(emb).reshape(1, -1))[0][0]\n",
    "        results.append((name, sim))\n",
    "\n",
    "    results.sort(key=lambda x: x[1], reverse=True)\n",
    "    return results[:top_n]\n"
   ],
   "id": "1d8a5c5f83472f6f",
   "outputs": [],
   "execution_count": 11
  },
  {
   "metadata": {
    "ExecuteTime": {
     "end_time": "2025-06-14T02:57:00.530389Z",
     "start_time": "2025-06-14T02:56:59.912321Z"
    }
   },
   "cell_type": "code",
   "source": "recommend_similar_strains(\"Blue Dream\", top_n=5)\n",
   "id": "d7de9ced20a01a93",
   "outputs": [
    {
     "data": {
      "text/plain": [
       "[('Super Blue Dream', np.float64(0.8015651693296493)),\n",
       " ('Blue Dream CBD', np.float64(0.7836638187491647)),\n",
       " ('Blue Wonder', np.float64(0.7825964484481065)),\n",
       " ('Double Dream', np.float64(0.7819953158244742)),\n",
       " ('Blue Diesel', np.float64(0.7802391620739217))]"
      ]
     },
     "execution_count": 12,
     "metadata": {},
     "output_type": "execute_result"
    }
   ],
   "execution_count": 12
  }
 ],
 "metadata": {
  "kernelspec": {
   "display_name": "Python 3",
   "language": "python",
   "name": "python3"
  },
  "language_info": {
   "codemirror_mode": {
    "name": "ipython",
    "version": 2
   },
   "file_extension": ".py",
   "mimetype": "text/x-python",
   "name": "python",
   "nbconvert_exporter": "python",
   "pygments_lexer": "ipython2",
   "version": "2.7.6"
  }
 },
 "nbformat": 4,
 "nbformat_minor": 5
}
